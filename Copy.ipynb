{
  "nbformat": 4,
  "nbformat_minor": 0,
  "metadata": {
    "colab": {
      "provenance": [],
      "include_colab_link": true
    },
    "kernelspec": {
      "name": "python3",
      "display_name": "Python 3"
    },
    "language_info": {
      "name": "python"
    }
  },
  "cells": [
    {
      "cell_type": "markdown",
      "metadata": {
        "id": "view-in-github",
        "colab_type": "text"
      },
      "source": [
        "<a href=\"https://colab.research.google.com/github/asagichan/copy-file/blob/main/Copy.ipynb\" target=\"_parent\"><img src=\"https://colab.research.google.com/assets/colab-badge.svg\" alt=\"Open In Colab\"/></a>"
      ]
    },
    {
      "cell_type": "code",
      "execution_count": null,
      "metadata": {
        "id": "MGt7K7Pv32SU"
      },
      "outputs": [],
      "source": [
        "!sudo add-apt-repository -y ppa:alessandro-strada/ppa 2>&1 > /dev/null\n",
        "!sudo apt-get update -qq 2>&1 > /dev/null\n",
        "!sudo apt -y install -qq google-drive-ocamlfuse 2>&1 > /dev/null\n",
        "!google-drive-ocamlfuse\n",
        "!sudo apt-get install -qq w3m # to act as web browser\n",
        "!xdg-settings set default-web-browser w3m.desktop # to set default browser\n",
        "%cd /content\n",
        "!mkdir gdrive\n",
        "%cd gdrive\n",
        "!mkdir MyDrive\n",
        "%cd /content/gdrive/MyDrive\n",
        "!google-drive-ocamlfuse /content/gdrive/MyDrive\n",
        "\n",
        "%cd /content/gdrive/MyDrive/"
      ]
    },
    {
      "cell_type": "code",
      "source": [
        "HD = \"\"  # @param {'type': 'string'}\n",
        "UHD = \"\"  # @param {'type': 'string'}\n",
        "RAW = \"\"  # @param {'type': 'string'}\n",
        "!wget --content-disposition $HD\n",
        "!wget --content-disposition $UHD\n",
        "!wget --content-disposition $RAW"
      ],
      "metadata": {
        "id": "oKnD9BxI4vki"
      },
      "execution_count": null,
      "outputs": []
    },
    {
      "cell_type": "code",
      "source": [
        "import binascii\n",
        "import zlib\n",
        "import struct\n",
        "from pathlib import Path\n",
        "\n",
        "file_path = \"\"  # @param {'type': 'string'}\n",
        "\n",
        "def calculate_crc32(file_path):\n",
        "    crc32_hash = 0\n",
        "    with open(Path(file_path), \"rb\") as file:\n",
        "        for chunk in iter(lambda: file.read(4096), b\"\"):\n",
        "            crc32_hash = zlib.crc32(chunk, crc32_hash)\n",
        "    crc32_hash_hex = binascii.hexlify(struct.pack(\">I\", crc32_hash))\n",
        "    return crc32_hash_hex.decode()\n",
        "\n",
        "crc32_hash = calculate_crc32(file_path)\n",
        "print(\"CRC32 Hash:\", crc32_hash.upper())\n"
      ],
      "metadata": {
        "id": "TcoTOPWnJOSe",
        "outputId": "fc00e6d7-e966-422d-d3cb-4de06ffa9fa4",
        "colab": {
          "base_uri": "https://localhost:8080/"
        }
      },
      "execution_count": null,
      "outputs": [
        {
          "output_type": "stream",
          "name": "stdout",
          "text": [
            "CRC32 Hash: F4C72D39\n"
          ]
        }
      ]
    },
    {
      "cell_type": "code",
      "source": [
        "HD = \"\"  # @param {'type': 'string'}\n",
        "UHD = \"\"  # @param {'type': 'string'}\n",
        "RAW = \"\"  # @param {'type': 'string'}\n",
        "!wget --content-disposition $HD\n",
        "!wget --content-disposition $UHD\n",
        "!wget --content-disposition $RAW"
      ],
      "metadata": {
        "id": "uw-w95564wW6"
      },
      "execution_count": null,
      "outputs": []
    },
    {
      "cell_type": "code",
      "source": [
        "HD = \"\"  # @param {'type': 'string'}\n",
        "UHD = \"\"  # @param {'type': 'string'}\n",
        "RAW = \"\"  # @param {'type': 'string'}\n",
        "!wget --content-disposition $HD\n",
        "!wget --content-disposition $UHD\n",
        "!wget --content-disposition $RAW"
      ],
      "metadata": {
        "id": "vehqxUny4xGr"
      },
      "execution_count": null,
      "outputs": []
    },
    {
      "cell_type": "code",
      "source": [
        "HD = \"\"  # @param {'type': 'string'}\n",
        "UHD = \"\"  # @param {'type': 'string'}\n",
        "RAW = \"\"  # @param {'type': 'string'}\n",
        "!wget --content-disposition $HD\n",
        "!wget --content-disposition $UHD\n",
        "!wget --content-disposition $RAW"
      ],
      "metadata": {
        "id": "F8wfIQkl4yQR"
      },
      "execution_count": null,
      "outputs": []
    },
    {
      "cell_type": "code",
      "source": [
        "HD = \"\"  # @param {'type': 'string'}\n",
        "UHD = \"\"  # @param {'type': 'string'}\n",
        "RAW = \"\"  # @param {'type': 'string'}\n",
        "!wget --content-disposition $HD\n",
        "!wget --content-disposition $UHD\n",
        "!wget --content-disposition $RAW"
      ],
      "metadata": {
        "id": "Sfb2sX0Z4y5k"
      },
      "execution_count": null,
      "outputs": []
    }
  ]
}