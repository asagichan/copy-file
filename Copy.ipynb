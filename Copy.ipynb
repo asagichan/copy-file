{
  "nbformat": 4,
  "nbformat_minor": 0,
  "metadata": {
    "colab": {
      "provenance": [],
      "include_colab_link": true
    },
    "kernelspec": {
      "name": "python3",
      "display_name": "Python 3"
    },
    "language_info": {
      "name": "python"
    }
  },
  "cells": [
    {
      "cell_type": "markdown",
      "metadata": {
        "id": "view-in-github",
        "colab_type": "text"
      },
      "source": [
        "<a href=\"https://colab.research.google.com/github/asagichan/copy-file/blob/main/Copy.ipynb\" target=\"_parent\"><img src=\"https://colab.research.google.com/assets/colab-badge.svg\" alt=\"Open In Colab\"/></a>"
      ]
    },
    {
      "cell_type": "code",
      "execution_count": null,
      "metadata": {
        "id": "MGt7K7Pv32SU"
      },
      "outputs": [],
      "source": [
        "from google.colab import drive\n",
        "drive.mount('/content/gdrive')\n",
        "\n",
        "%cd /content/gdrive/MyDrive/"
      ]
    },
    {
      "cell_type": "code",
      "source": [
        "HD = \"#\"  # @param {'type': 'string'}\n",
        "UHD = \"#\"  # @param {'type': 'string'}\n",
        "RAW = \"#\"  # @param {'type': 'string'}\n",
        "!wget --content-disposition $HD\n",
        "!wget --content-disposition $UHD\n",
        "!wget --content-disposition $RAW"
      ],
      "metadata": {
        "id": "oKnD9BxI4vki"
      },
      "execution_count": null,
      "outputs": []
    },
    {
      "cell_type": "code",
      "source": [
        "HD = \"#\"  # @param {'type': 'string'}\n",
        "UHD = \"#\"  # @param {'type': 'string'}\n",
        "RAW = \"#\"  # @param {'type': 'string'}\n",
        "!wget --content-disposition $HD\n",
        "!wget --content-disposition $UHD\n",
        "!wget --content-disposition $RAW"
      ],
      "metadata": {
        "id": "uw-w95564wW6"
      },
      "execution_count": null,
      "outputs": []
    },
    {
      "cell_type": "code",
      "source": [
        "HD = \"#\"  # @param {'type': 'string'}\n",
        "UHD = \"#\"  # @param {'type': 'string'}\n",
        "RAW = \"#\"  # @param {'type': 'string'}\n",
        "!wget --content-disposition $HD\n",
        "!wget --content-disposition $UHD\n",
        "!wget --content-disposition $RAW"
      ],
      "metadata": {
        "id": "vehqxUny4xGr"
      },
      "execution_count": null,
      "outputs": []
    },
    {
      "cell_type": "code",
      "source": [
        "HD = \"#\"  # @param {'type': 'string'}\n",
        "UHD = \"#\"  # @param {'type': 'string'}\n",
        "RAW = \"#\"  # @param {'type': 'string'}\n",
        "!wget --content-disposition $HD\n",
        "!wget --content-disposition $UHD\n",
        "!wget --content-disposition $RAW"
      ],
      "metadata": {
        "id": "F8wfIQkl4yQR"
      },
      "execution_count": null,
      "outputs": []
    },
    {
      "cell_type": "code",
      "source": [
        "HD = \"#\"  # @param {'type': 'string'}\n",
        "UHD = \"#\"  # @param {'type': 'string'}\n",
        "RAW = \"#\"  # @param {'type': 'string'}\n",
        "!wget --content-disposition $HD\n",
        "!wget --content-disposition $UHD\n",
        "!wget --content-disposition $RAW"
      ],
      "metadata": {
        "id": "Sfb2sX0Z4y5k"
      },
      "execution_count": null,
      "outputs": []
    }
  ]
}