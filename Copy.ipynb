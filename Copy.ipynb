{
  "nbformat": 4,
  "nbformat_minor": 0,
  "metadata": {
    "colab": {
      "provenance": [],
      "include_colab_link": true
    },
    "kernelspec": {
      "name": "python3",
      "display_name": "Python 3"
    },
    "language_info": {
      "name": "python"
    }
  },
  "cells": [
    {
      "cell_type": "markdown",
      "metadata": {
        "id": "view-in-github",
        "colab_type": "text"
      },
      "source": [
        "<a href=\"https://colab.research.google.com/github/asagichan/copy-file/blob/main/Copy.ipynb\" target=\"_parent\"><img src=\"https://colab.research.google.com/assets/colab-badge.svg\" alt=\"Open In Colab\"/></a>"
      ]
    },
    {
      "cell_type": "code",
      "execution_count": 1,
      "metadata": {
        "id": "MGt7K7Pv32SU",
        "outputId": "6227b256-55e8-4145-9cf2-95ecd09f0666",
        "colab": {
          "base_uri": "https://localhost:8080/"
        }
      },
      "outputs": [
        {
          "output_type": "stream",
          "name": "stdout",
          "text": [
            "Mounted at /content/gdrive\n",
            "/content/gdrive/MyDrive\n"
          ]
        }
      ],
      "source": [
        "from google.colab import drive\n",
        "drive.mount('/content/gdrive')\n",
        "\n",
        "%cd /content/gdrive/MyDrive/"
      ]
    },
    {
      "cell_type": "code",
      "source": [
        "HD = \"https://od2.asagi.my.id/api/raw/?path=/%E3%82%A6%E3%82%A3/%5BAsagiChan.com%5D%20%E3%83%B4%E3%82%A3%E3%83%B3%E3%83%A9%E3%83%B3%E3%83%89%E3%83%BB%E3%82%B5%E3%82%AC/%5BAsagiChan.com%5D%20%E3%83%B4%E3%82%A3%E3%83%B3%E3%83%A9%E3%83%B3%E3%83%89%E3%83%BB%E3%82%B5%E3%82%AC%202%E6%9C%9F/%5BAsagiChan.com%5D%20%E3%83%B4%E3%82%A3%E3%83%B3%E3%83%A9%E3%83%B3%E3%83%89%E3%83%BB%E3%82%B5%E3%82%AC%202%E6%9C%9F%20-%20%5B01-12%5D%20%5B1080p%20HEVC%5D%5B10BIT%5D%5B72FPS%5D.rar\"  # @param {'type': 'string'}\n",
        "UHD = \"\"  # @param {'type': 'string'}\n",
        "RAW = \"\"  # @param {'type': 'string'}\n",
        "!wget --content-disposition $HD\n",
        "!wget --content-disposition $UHD\n",
        "!wget --content-disposition $RAW"
      ],
      "metadata": {
        "id": "oKnD9BxI4vki",
        "outputId": "845678f8-dd4a-4fc7-dd15-e234c15421ca",
        "colab": {
          "base_uri": "https://localhost:8080/"
        }
      },
      "execution_count": 3,
      "outputs": [
        {
          "output_type": "stream",
          "name": "stdout",
          "text": [
            "--2023-06-08 08:29:26--  https://od2.asagi.my.id/api/raw/?path=/%E3%82%A6%E3%82%A3/%5BAsagiChan.com%5D%20%E3%83%B4%E3%82%A3%E3%83%B3%E3%83%A9%E3%83%B3%E3%83%89%E3%83%BB%E3%82%B5%E3%82%AC/%5BAsagiChan.com%5D%20%E3%83%B4%E3%82%A3%E3%83%B3%E3%83%A9%E3%83%B3%E3%83%89%E3%83%BB%E3%82%B5%E3%82%AC%202%E6%9C%9F/%5BAsagiChan.com%5D%20%E3%83%B4%E3%82%A3%E3%83%B3%E3%83%A9%E3%83%B3%E3%83%89%E3%83%BB%E3%82%B5%E3%82%AC%202%E6%9C%9F%20-%20%5B01-12%5D%20%5B1080p%20HEVC%5D%5B10BIT%5D%5B72FPS%5D.rar\n",
            "Resolving od2.asagi.my.id (od2.asagi.my.id)... 76.76.21.241, 76.76.21.9\n",
            "Connecting to od2.asagi.my.id (od2.asagi.my.id)|76.76.21.241|:443... connected.\n",
            "HTTP request sent, awaiting response... 307 Temporary Redirect\n",
            "Location: https://sdnydx-my.sharepoint.com/personal/asagichan60_sdnydx_onmicrosoft_com/_layouts/15/download.aspx?UniqueId=fb2856f6-6375-49c4-8a2b-79e3bfd41d50&Translate=false&tempauth=eyJ0eXAiOiJKV1QiLCJhbGciOiJIUzI1NiJ9.eyJhdWQiOiIwMDAwMDAwMy0wMDAwLTBmZjEtY2UwMC0wMDAwMDAwMDAwMDAvc2RueWR4LW15LnNoYXJlcG9pbnQuY29tQGE1ZTkzMWQ2LTY5MTAtNDVkNC04MDNjLTUzNjkzNDFlNWQxZiIsImlzcyI6IjAwMDAwMDAzLTAwMDAtMGZmMS1jZTAwLTAwMDAwMDAwMDAwMCIsIm5iZiI6IjE2ODYyMTI5NjciLCJleHAiOiIxNjg2MjE2NTY3IiwiZW5kcG9pbnR1cmwiOiJuRUN5TmZGalcybHE4UjVzWnd4UWFTNC84VTBLaWEwdmJzVkprdzFUSXFvPSIsImVuZHBvaW50dXJsTGVuZ3RoIjoiMTY0IiwiaXNsb29wYmFjayI6IlRydWUiLCJjaWQiOiJ5cE5tcXdsWC8wQ2JqVEdCRW5MSk1BPT0iLCJ2ZXIiOiJoYXNoZWRwcm9vZnRva2VuIiwic2l0ZWlkIjoiT1RWbU5qQXlOalF0WVdWaE5TMDBPV015TFdGaFlUSXRZakJsWkdZME56RTFPRFEwIiwiYXBwX2Rpc3BsYXluYW1lIjoiT0QySW5kZXgiLCJzaWduaW5fc3RhdGUiOiJbXCJrbXNpXCJdIiwiYXBwaWQiOiJiZDQxMDQ4YS0wMTFlLTRlYmYtYjk1Mi0wOWNlNDE2M2U3YTciLCJ0aWQiOiJhNWU5MzFkNi02OTEwLTQ1ZDQtODAzYy01MzY5MzQxZTVkMWYiLCJ1cG4iOiJhc2FnaWNoYW42MEBzZG55ZHgub25taWNyb3NvZnQuY29tIiwicHVpZCI6IjEwMDMyMDAwREIyNDA3QUYiLCJjYWNoZWtleSI6IjBoLmZ8bWVtYmVyc2hpcHwxMDAzMjAwMGRiMjQwN2FmQGxpdmUuY29tIiwic2NwIjoibXlmaWxlcy5yZWFkIGFsbGZpbGVzLnJlYWQgYWxsZmlsZXMud3JpdGUgYWxscHJvZmlsZXMucmVhZCIsInR0IjoiMiIsImlwYWRkciI6IjIwLjE5MC4xNTEuMTYxIn0.y29xTNzuefawh2_6ILB58QVWl1vst9dwWMTk_rT_AJI&ApiVersion=2.0 [following]\n",
            "--2023-06-08 08:29:27--  https://sdnydx-my.sharepoint.com/personal/asagichan60_sdnydx_onmicrosoft_com/_layouts/15/download.aspx?UniqueId=fb2856f6-6375-49c4-8a2b-79e3bfd41d50&Translate=false&tempauth=eyJ0eXAiOiJKV1QiLCJhbGciOiJIUzI1NiJ9.eyJhdWQiOiIwMDAwMDAwMy0wMDAwLTBmZjEtY2UwMC0wMDAwMDAwMDAwMDAvc2RueWR4LW15LnNoYXJlcG9pbnQuY29tQGE1ZTkzMWQ2LTY5MTAtNDVkNC04MDNjLTUzNjkzNDFlNWQxZiIsImlzcyI6IjAwMDAwMDAzLTAwMDAtMGZmMS1jZTAwLTAwMDAwMDAwMDAwMCIsIm5iZiI6IjE2ODYyMTI5NjciLCJleHAiOiIxNjg2MjE2NTY3IiwiZW5kcG9pbnR1cmwiOiJuRUN5TmZGalcybHE4UjVzWnd4UWFTNC84VTBLaWEwdmJzVkprdzFUSXFvPSIsImVuZHBvaW50dXJsTGVuZ3RoIjoiMTY0IiwiaXNsb29wYmFjayI6IlRydWUiLCJjaWQiOiJ5cE5tcXdsWC8wQ2JqVEdCRW5MSk1BPT0iLCJ2ZXIiOiJoYXNoZWRwcm9vZnRva2VuIiwic2l0ZWlkIjoiT1RWbU5qQXlOalF0WVdWaE5TMDBPV015TFdGaFlUSXRZakJsWkdZME56RTFPRFEwIiwiYXBwX2Rpc3BsYXluYW1lIjoiT0QySW5kZXgiLCJzaWduaW5fc3RhdGUiOiJbXCJrbXNpXCJdIiwiYXBwaWQiOiJiZDQxMDQ4YS0wMTFlLTRlYmYtYjk1Mi0wOWNlNDE2M2U3YTciLCJ0aWQiOiJhNWU5MzFkNi02OTEwLTQ1ZDQtODAzYy01MzY5MzQxZTVkMWYiLCJ1cG4iOiJhc2FnaWNoYW42MEBzZG55ZHgub25taWNyb3NvZnQuY29tIiwicHVpZCI6IjEwMDMyMDAwREIyNDA3QUYiLCJjYWNoZWtleSI6IjBoLmZ8bWVtYmVyc2hpcHwxMDAzMjAwMGRiMjQwN2FmQGxpdmUuY29tIiwic2NwIjoibXlmaWxlcy5yZWFkIGFsbGZpbGVzLnJlYWQgYWxsZmlsZXMud3JpdGUgYWxscHJvZmlsZXMucmVhZCIsInR0IjoiMiIsImlwYWRkciI6IjIwLjE5MC4xNTEuMTYxIn0.y29xTNzuefawh2_6ILB58QVWl1vst9dwWMTk_rT_AJI&ApiVersion=2.0\n",
            "Resolving sdnydx-my.sharepoint.com (sdnydx-my.sharepoint.com)... 13.107.136.8, 13.107.138.8, 2620:1ec:8f8::8, ...\n",
            "Connecting to sdnydx-my.sharepoint.com (sdnydx-my.sharepoint.com)|13.107.136.8|:443... connected.\n",
            "HTTP request sent, awaiting response... 200 OK\n",
            "Length: 9567766618 (8.9G) [application/octet-stream]\n",
            "Saving to: ‘[AsagiChan.com] ヴィンランド・サガ 2期 - [01-12] [1080p HEVC][10BIT][72FPS].rar’\n",
            "\n",
            "[AsagiChan.com] ヴ    7%[>                   ] 716.51M  --.-KB/s    in 6m 32s  \n",
            "\n",
            "2023-06-08 08:36:01 (1.83 MB/s) - Read error at byte 751315023/9567766618 (Connection reset by peer). Retrying.\n",
            "\n",
            "--2023-06-08 08:36:02--  (try: 2)  https://sdnydx-my.sharepoint.com/personal/asagichan60_sdnydx_onmicrosoft_com/_layouts/15/download.aspx?UniqueId=fb2856f6-6375-49c4-8a2b-79e3bfd41d50&Translate=false&tempauth=eyJ0eXAiOiJKV1QiLCJhbGciOiJIUzI1NiJ9.eyJhdWQiOiIwMDAwMDAwMy0wMDAwLTBmZjEtY2UwMC0wMDAwMDAwMDAwMDAvc2RueWR4LW15LnNoYXJlcG9pbnQuY29tQGE1ZTkzMWQ2LTY5MTAtNDVkNC04MDNjLTUzNjkzNDFlNWQxZiIsImlzcyI6IjAwMDAwMDAzLTAwMDAtMGZmMS1jZTAwLTAwMDAwMDAwMDAwMCIsIm5iZiI6IjE2ODYyMTI5NjciLCJleHAiOiIxNjg2MjE2NTY3IiwiZW5kcG9pbnR1cmwiOiJuRUN5TmZGalcybHE4UjVzWnd4UWFTNC84VTBLaWEwdmJzVkprdzFUSXFvPSIsImVuZHBvaW50dXJsTGVuZ3RoIjoiMTY0IiwiaXNsb29wYmFjayI6IlRydWUiLCJjaWQiOiJ5cE5tcXdsWC8wQ2JqVEdCRW5MSk1BPT0iLCJ2ZXIiOiJoYXNoZWRwcm9vZnRva2VuIiwic2l0ZWlkIjoiT1RWbU5qQXlOalF0WVdWaE5TMDBPV015TFdGaFlUSXRZakJsWkdZME56RTFPRFEwIiwiYXBwX2Rpc3BsYXluYW1lIjoiT0QySW5kZXgiLCJzaWduaW5fc3RhdGUiOiJbXCJrbXNpXCJdIiwiYXBwaWQiOiJiZDQxMDQ4YS0wMTFlLTRlYmYtYjk1Mi0wOWNlNDE2M2U3YTciLCJ0aWQiOiJhNWU5MzFkNi02OTEwLTQ1ZDQtODAzYy01MzY5MzQxZTVkMWYiLCJ1cG4iOiJhc2FnaWNoYW42MEBzZG55ZHgub25taWNyb3NvZnQuY29tIiwicHVpZCI6IjEwMDMyMDAwREIyNDA3QUYiLCJjYWNoZWtleSI6IjBoLmZ8bWVtYmVyc2hpcHwxMDAzMjAwMGRiMjQwN2FmQGxpdmUuY29tIiwic2NwIjoibXlmaWxlcy5yZWFkIGFsbGZpbGVzLnJlYWQgYWxsZmlsZXMud3JpdGUgYWxscHJvZmlsZXMucmVhZCIsInR0IjoiMiIsImlwYWRkciI6IjIwLjE5MC4xNTEuMTYxIn0.y29xTNzuefawh2_6ILB58QVWl1vst9dwWMTk_rT_AJI&ApiVersion=2.0\n",
            "Connecting to sdnydx-my.sharepoint.com (sdnydx-my.sharepoint.com)|13.107.136.8|:443... connected.\n",
            "HTTP request sent, awaiting response... 206 Partial Content\n",
            "Length: 9567766618 (8.9G), 8816451595 (8.2G) remaining [application/octet-stream]\n",
            "Saving to: ‘[AsagiChan.com] ヴィンランド・サガ 2期 - [01-12] [1080p HEVC][10BIT][72FPS].rar’\n",
            "\n",
            "[AsagiChan.com] ヴ  100%[+==================>]   8.91G  44.6MB/s    in 3m 47s  \n",
            "\n",
            "2023-06-08 08:39:49 (37.1 MB/s) - ‘[AsagiChan.com] ヴィンランド・サガ 2期 - [01-12] [1080p HEVC][10BIT][72FPS].rar’ saved [9567766618/9567766618]\n",
            "\n",
            "wget: missing URL\n",
            "Usage: wget [OPTION]... [URL]...\n",
            "\n",
            "Try `wget --help' for more options.\n",
            "wget: missing URL\n",
            "Usage: wget [OPTION]... [URL]...\n",
            "\n",
            "Try `wget --help' for more options.\n"
          ]
        }
      ]
    },
    {
      "cell_type": "code",
      "source": [
        "import binascii\n",
        "import zlib\n",
        "import struct\n",
        "from pathlib import Path\n",
        "\n",
        "file_path = \"/content/gdrive/MyDrive/[AsagiChan.com] ヴィンランド・サガ 2期 - [01-12] [1080p HEVC][10BIT][72FPS].rar\"  # @param {'type': 'string'}\n",
        "\n",
        "def calculate_crc32(file_path):\n",
        "    crc32_hash = 0\n",
        "    with open(Path(file_path), \"rb\") as file:\n",
        "        for chunk in iter(lambda: file.read(4096), b\"\"):\n",
        "            crc32_hash = zlib.crc32(chunk, crc32_hash)\n",
        "    crc32_hash_hex = binascii.hexlify(struct.pack(\">I\", crc32_hash))\n",
        "    return crc32_hash_hex.decode()\n",
        "\n",
        "crc32_hash = calculate_crc32(file_path)\n",
        "print(\"CRC32 Hash:\", crc32_hash.upper())\n"
      ],
      "metadata": {
        "id": "TcoTOPWnJOSe",
        "outputId": "fc00e6d7-e966-422d-d3cb-4de06ffa9fa4",
        "colab": {
          "base_uri": "https://localhost:8080/"
        }
      },
      "execution_count": 12,
      "outputs": [
        {
          "output_type": "stream",
          "name": "stdout",
          "text": [
            "CRC32 Hash: F4C72D39\n"
          ]
        }
      ]
    },
    {
      "cell_type": "code",
      "source": [
        "HD = \"#\"  # @param {'type': 'string'}\n",
        "UHD = \"#\"  # @param {'type': 'string'}\n",
        "RAW = \"#\"  # @param {'type': 'string'}\n",
        "!wget --content-disposition $HD\n",
        "!wget --content-disposition $UHD\n",
        "!wget --content-disposition $RAW"
      ],
      "metadata": {
        "id": "uw-w95564wW6"
      },
      "execution_count": null,
      "outputs": []
    },
    {
      "cell_type": "code",
      "source": [
        "HD = \"#\"  # @param {'type': 'string'}\n",
        "UHD = \"#\"  # @param {'type': 'string'}\n",
        "RAW = \"#\"  # @param {'type': 'string'}\n",
        "!wget --content-disposition $HD\n",
        "!wget --content-disposition $UHD\n",
        "!wget --content-disposition $RAW"
      ],
      "metadata": {
        "id": "vehqxUny4xGr"
      },
      "execution_count": null,
      "outputs": []
    },
    {
      "cell_type": "code",
      "source": [
        "HD = \"#\"  # @param {'type': 'string'}\n",
        "UHD = \"#\"  # @param {'type': 'string'}\n",
        "RAW = \"#\"  # @param {'type': 'string'}\n",
        "!wget --content-disposition $HD\n",
        "!wget --content-disposition $UHD\n",
        "!wget --content-disposition $RAW"
      ],
      "metadata": {
        "id": "F8wfIQkl4yQR"
      },
      "execution_count": null,
      "outputs": []
    },
    {
      "cell_type": "code",
      "source": [
        "HD = \"#\"  # @param {'type': 'string'}\n",
        "UHD = \"#\"  # @param {'type': 'string'}\n",
        "RAW = \"#\"  # @param {'type': 'string'}\n",
        "!wget --content-disposition $HD\n",
        "!wget --content-disposition $UHD\n",
        "!wget --content-disposition $RAW"
      ],
      "metadata": {
        "id": "Sfb2sX0Z4y5k"
      },
      "execution_count": null,
      "outputs": []
    }
  ]
}